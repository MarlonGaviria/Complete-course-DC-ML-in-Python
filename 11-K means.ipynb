{
 "cells": [
  {
   "cell_type": "markdown",
   "metadata": {},
   "source": [
    "# K-means"
   ]
  },
  {
   "cell_type": "code",
   "execution_count": 19,
   "metadata": {},
   "outputs": [],
   "source": [
    "import pandas as pd\n",
    "import numpy as np\n",
    "from scipy.cluster.vq import vq\n",
    "from scipy.cluster.vq import kmeans\n",
    "import matplotlib.pyplot as plt"
   ]
  },
  {
   "cell_type": "code",
   "execution_count": 49,
   "metadata": {},
   "outputs": [
    {
     "data": {
      "text/plain": [
       "array([[0.99091419, 0.34612916, 0.84682357],\n",
       "       [0.63373948, 0.5047839 , 0.27663586],\n",
       "       [0.64955393, 0.13779294, 0.64138946],\n",
       "       [0.40887424, 0.35510767, 0.17278526],\n",
       "       [0.68376988, 0.36391326, 0.30016733],\n",
       "       [0.94469464, 0.30595396, 0.6307561 ],\n",
       "       [0.78436245, 0.47391456, 0.31704201],\n",
       "       [0.72166933, 0.75865813, 0.01103806],\n",
       "       [0.61441318, 0.01911524, 0.09637636],\n",
       "       [0.32824969, 0.33696154, 0.35608748],\n",
       "       [0.69033869, 0.64292277, 0.18496534],\n",
       "       [0.97270937, 0.72735526, 0.18711504],\n",
       "       [0.39737929, 0.35207067, 0.03640082],\n",
       "       [0.84031368, 0.37771939, 0.7303582 ],\n",
       "       [0.08850539, 0.09433362, 0.94109698],\n",
       "       [0.17274526, 0.36443005, 0.11880553],\n",
       "       [0.13778562, 0.92575669, 0.94605126],\n",
       "       [0.54946964, 0.98083383, 0.46766419],\n",
       "       [0.79395177, 0.9390751 , 0.62127876],\n",
       "       [0.83392666, 0.79611322, 0.95190766],\n",
       "       [0.47403675, 0.26169389, 0.68065826],\n",
       "       [0.07601151, 0.3543669 , 0.42179362],\n",
       "       [0.38963094, 0.7841568 , 0.30333008],\n",
       "       [0.95809624, 0.19656732, 0.39783374],\n",
       "       [0.29146391, 0.43239917, 0.20016994],\n",
       "       [0.08759487, 0.62525336, 0.49324489],\n",
       "       [0.63430938, 0.35166096, 0.90389847],\n",
       "       [0.20989955, 0.81338688, 0.82309113],\n",
       "       [0.01722779, 0.98671462, 0.26018194],\n",
       "       [0.33211862, 0.53597737, 0.04244567]])"
      ]
     },
     "execution_count": 49,
     "metadata": {},
     "output_type": "execute_result"
    }
   ],
   "source": [
    "dt = np.random.random(90).reshape(30,3)\n",
    "dt"
   ]
  },
  {
   "cell_type": "code",
   "execution_count": 6,
   "metadata": {},
   "outputs": [
    {
     "data": {
      "text/plain": [
       "array([[0.01690099, 0.35701727, 0.4910227 ],\n",
       "       [0.73690494, 0.16491927, 0.74623181]])"
      ]
     },
     "execution_count": 6,
     "metadata": {},
     "output_type": "execute_result"
    }
   ],
   "source": [
    "c1 = np.random.choice(range(len(dt)))\n",
    "c2 = np.random.choice(range(len(dt)))\n",
    "clust_centers = np.vstack([dt[c1], dt[c2]])\n",
    "clust_centers"
   ]
  },
  {
   "cell_type": "code",
   "execution_count": 9,
   "metadata": {},
   "outputs": [
    {
     "data": {
      "text/plain": [
       "(array([1, 1, 1, 1, 0, 1, 0, 0, 0, 0, 1, 0, 1, 0, 0, 1, 0, 0, 0, 0, 0, 0,\n",
       "        1, 1, 1, 0, 0, 0, 0, 0]),\n",
       " array([0.        , 0.26224899, 0.26815587, 0.3941994 , 0.59479718,\n",
       "        0.35166111, 0.49309986, 0.37589969, 0.31817473, 0.30242313,\n",
       "        0.26951644, 0.49636754, 0.55526011, 0.27409138, 0.53156098,\n",
       "        0.05955045, 0.33553867, 0.66867074, 0.        , 0.70369138,\n",
       "        0.41843707, 0.58458143, 0.57372827, 0.27876099, 0.47569772,\n",
       "        0.47600042, 0.38387806, 0.08935788, 0.61856228, 0.75973114]))"
      ]
     },
     "execution_count": 9,
     "metadata": {},
     "output_type": "execute_result"
    }
   ],
   "source": [
    "vq(dt, clust_centers)   # clusters dados los centoides"
   ]
  },
  {
   "cell_type": "code",
   "execution_count": 17,
   "metadata": {},
   "outputs": [
    {
     "data": {
      "text/plain": [
       "(array([[0.2321162 , 0.58608449, 0.51824329],\n",
       "        [0.511638  , 0.26958783, 0.7131546 ]]),\n",
       " 0.32988170179613835)"
      ]
     },
     "execution_count": 17,
     "metadata": {},
     "output_type": "execute_result"
    }
   ],
   "source": [
    "kmeans(dt, k_or_guess = 2)"
   ]
  },
  {
   "cell_type": "code",
   "execution_count": null,
   "metadata": {},
   "outputs": [],
   "source": []
  },
  {
   "cell_type": "markdown",
   "metadata": {},
   "source": [
    "### Ejemplo"
   ]
  },
  {
   "cell_type": "code",
   "execution_count": 76,
   "metadata": {},
   "outputs": [
    {
     "data": {
      "image/png": "[encoded data removed]",
      "text/plain": [
       "<Figure size 432x288 with 1 Axes>"
      ]
     },
     "metadata": {
      "needs_background": "light"
     },
     "output_type": "display_data"
    }
   ],
   "source": [
    "dt = np.random.random(90).reshape(45,2)\n",
    "plt.scatter(dt[:,0],dt[:,1])\n",
    "plt.show()"
   ]
  },
  {
   "cell_type": "code",
   "execution_count": 92,
   "metadata": {},
   "outputs": [
    {
     "data": {
      "text/plain": [
       "array([[0.21395104, 0.52914875],\n",
       "       [0.72983348, 0.45133871]])"
      ]
     },
     "execution_count": 92,
     "metadata": {},
     "output_type": "execute_result"
    }
   ],
   "source": [
    "k = kmeans(dt,k_or_guess=2)\n",
    "k[0]"
   ]
  },
  {
   "cell_type": "code",
   "execution_count": 101,
   "metadata": {},
   "outputs": [
    {
     "data": {
      "text/plain": [
       "array([1, 1, 1, 1, 0, 1, 0, 0, 0, 0, 1, 0, 1, 1, 0, 1, 0, 0, 0, 0, 1, 0,\n",
       "       0, 0, 1, 1, 0, 0, 0, 1, 1, 1, 1, 1, 0, 0, 1, 0, 1, 1, 0, 1, 0, 0,\n",
       "       1])"
      ]
     },
     "execution_count": 101,
     "metadata": {},
     "output_type": "execute_result"
    }
   ],
   "source": [
    "ar1= np.array([0.50209529,0.25997098])\n",
    "ar2= np.array([0.45904648, 0.79926713])\n",
    "vq(dt,k[0])[0]"
   ]
  },
  {
   "cell_type": "code",
   "execution_count": 99,
   "metadata": {},
   "outputs": [
    {
     "data": {
      "text/plain": [
       "<matplotlib.collections.PathCollection at 0x1da8938fa08>"
      ]
     },
     "execution_count": 99,
     "metadata": {},
     "output_type": "execute_result"
    },
    {
     "data": {
      "image/png": "[encoded data removed]",
      "text/plain": [
       "<Figure size 432x288 with 1 Axes>"
      ]
     },
     "metadata": {
      "needs_background": "light"
     },
     "output_type": "display_data"
    }
   ],
   "source": [
    "plt.scatter(dt[:,0],dt[:,1], c = vq(dt,k[0])[0])\n",
    "plt.scatter(ar1,ar2,c= 'r')"
   ]
  },
  {
   "cell_type": "code",
   "execution_count": null,
   "metadata": {},
   "outputs": [],
   "source": []
  },
  {
   "cell_type": "code",
   "execution_count": null,
   "metadata": {},
   "outputs": [],
   "source": []
  }
 ],
 "metadata": {
  "kernelspec": {
   "display_name": "Python 3",
   "language": "python",
   "name": "python3"
  },
  "language_info": {
   "codemirror_mode": {
    "name": "ipython",
    "version": 3
   },
   "file_extension": ".py",
   "mimetype": "text/x-python",
   "name": "python",
   "nbconvert_exporter": "python",
   "pygments_lexer": "ipython3",
   "version": "3.7.6"
  }
 },
 "nbformat": 4,
 "nbformat_minor": 4
}
