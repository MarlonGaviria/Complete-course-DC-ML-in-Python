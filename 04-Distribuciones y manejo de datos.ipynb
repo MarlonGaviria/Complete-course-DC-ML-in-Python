{
 "cells": [
  {
   "cell_type": "markdown",
   "metadata": {},
   "source": [
    "# Funciones de distribucion de probabilidad"
   ]
  },
  {
   "cell_type": "markdown",
   "metadata": {},
   "source": [
    "### Distribucion uniforme"
   ]
  },
  {
   "cell_type": "code",
   "execution_count": 1,
   "metadata": {},
   "outputs": [],
   "source": [
    "import numpy as np\n",
    "import matplotlib.pyplot as plt\n",
    "import pandas as pd"
   ]
  },
  {
   "cell_type": "code",
   "execution_count": 2,
   "metadata": {},
   "outputs": [
    {
     "data": {
      "text/plain": [
       "2000"
      ]
     },
     "execution_count": 2,
     "metadata": {},
     "output_type": "execute_result"
    }
   ],
   "source": [
    "data = np.random.uniform(1,100,2000)\n",
    "data"
   ]
  },
  {
   "cell_type": "code",
   "execution_count": 3,
   "metadata": {},
   "outputs": [
    {
     "data": {
      "text/plain": [
       "(array([196., 215., 186., 186., 194., 201., 208., 209., 201., 204.]),\n",
       " array([ 1.00944589, 10.902498  , 20.7955501 , 30.68860221, 40.58165432,\n",
       "        50.47470643, 60.36775853, 70.26081064, 80.15386275, 90.04691486,\n",
       "        99.93996696]),\n",
       " <a list of 10 Patch objects>)"
      ]
     },
     "execution_count": 3,
     "metadata": {},
     "output_type": "execute_result"
    },
    {
     "data": {
      "image/png": "[encoded data removed]",
      "text/plain": [
       "<Figure size 432x288 with 1 Axes>"
      ]
     },
     "metadata": {
      "needs_background": "light"
     },
     "output_type": "display_data"
    }
   ],
   "source": [
    "%matplotlib inline\n",
    "plt.hist(data)"
   ]
  },
  {
   "cell_type": "markdown",
   "metadata": {},
   "source": [
    "### Distribucion uniforme"
   ]
  },
  {
   "cell_type": "code",
   "execution_count": 4,
   "metadata": {},
   "outputs": [
    {
     "data": {
      "text/plain": [
       "array([ 5.83594754,  5.75091334,  2.71611086,  9.36200968,  8.79244605,\n",
       "        4.5796298 ,  5.53035572,  5.41664805,  6.97818773,  7.60430429,\n",
       "       11.10847675,  6.73064413,  3.28063354,  7.94944546,  4.01492124,\n",
       "        4.06348911,  6.0104353 ,  7.69446359,  4.61040732,  5.68148073,\n",
       "        5.48804521,  8.67849966,  3.81721442,  8.80319939,  4.83036558,\n",
       "        4.43625376,  2.53081296,  4.53193255,  5.58742119,  1.93974808,\n",
       "        4.59717886,  4.58548903,  9.65560817,  5.36494844,  1.01505786,\n",
       "        6.5208835 ,  0.29670864,  5.86337096, 10.22136892,  3.59423228,\n",
       "        8.08035192,  5.22070578,  4.03019257,  7.10460398,  0.01611587,\n",
       "        1.07618002,  2.47804866,  4.95698395, 10.21894295,  6.1689354 ,\n",
       "        3.13746055,  7.50843344,  6.84138223,  7.22949424,  8.49818562,\n",
       "        2.45011159,  2.95811498,  7.31800752,  9.67936247,  3.44620495,\n",
       "        4.15466148,  5.78745691,  4.76050571,  4.43089686,  5.95962334,\n",
       "        3.29083271,  8.70513444,  5.64349765,  6.3337557 ,  9.60459098,\n",
       "        7.48442676,  3.63960967,  3.02003241,  7.53221181,  6.40474723,\n",
       "        7.67273254,  5.25031528,  9.90256736,  2.18610289,  1.25691969,\n",
       "        1.13672258,  9.03861413,  5.35422225,  4.40806043,  2.81023879,\n",
       "        2.78215882,  6.37525824,  2.07879876,  6.46573837,  4.27025553,\n",
       "        3.16927312,  4.54517917,  5.26720904,  9.28227629,  5.38363423,\n",
       "        5.83393878,  8.80334915,  7.45883109,  4.98971577,  4.09672894,\n",
       "        4.9760347 ,  5.44118155,  6.05869697,  5.23778479,  0.92295637,\n",
       "        7.69961399,  8.46415355,  6.59305402,  7.43629818,  7.73392571,\n",
       "        6.77099609,  4.83952379,  7.02783519,  3.02615946,  7.81340184,\n",
       "        4.63100271,  4.36330769,  3.02190892,  2.29252401,  6.03440514,\n",
       "        5.34170961,  5.36135645,  3.3136796 ,  3.45009309,  3.38619955,\n",
       "        5.21260195,  2.68285615,  3.99379722, -2.92246991,  8.14791422,\n",
       "        5.08406994,  1.49133158,  0.55612079,  2.80295426,  3.98068028,\n",
       "        1.00113198,  5.14416552,  2.95801332,  6.24571385,  7.32086703,\n",
       "        3.83958696,  2.60517832,  2.66643055,  2.44628372,  9.72256963,\n",
       "        4.45174048,  6.09961928,  2.22128556, 11.55062258,  5.42827874,\n",
       "        7.58123118,  9.46598237,  6.48785786,  1.48542163,  2.68447716,\n",
       "        1.08007875,  4.71553164,  3.31175678,  8.38575922,  8.19228878,\n",
       "        7.37493779,  5.12052365,  1.6651964 ,  4.68992087,  4.81238737,\n",
       "        8.07291174,  3.35590937,  6.51011053,  5.31094743,  5.44592551,\n",
       "        6.07536749, 12.59921367,  8.44760529,  4.05497599,  4.9287433 ,\n",
       "        1.64427145,  4.080429  ,  6.24374414,  5.39439956,  5.33783711,\n",
       "        3.4973399 ,  9.60751424,  9.41715569,  9.87777528,  7.40641781,\n",
       "        3.2349966 ,  4.60733288,  8.87048089, 10.25173397,  5.25363887,\n",
       "        2.57889548,  6.28871889,  7.49892614,  0.8439779 ,  5.23430906,\n",
       "        8.17562501,  4.85615753,  4.71365401,  3.57269613,  5.84284577,\n",
       "        3.92814885,  4.89859741,  4.71714211,  1.35658368,  5.38192605,\n",
       "        4.23204697,  7.8580692 ,  4.65658451,  5.52071122,  8.97918591,\n",
       "        9.57194983,  2.19141995,  3.22145264,  2.35761278,  5.59062481,\n",
       "        3.30738316,  6.01077133,  5.77266872,  2.92343737,  5.70416386,\n",
       "        6.81737833,  3.7088925 ,  3.08930533,  2.94707603,  7.17349524,\n",
       "        3.41618911,  4.05593007,  7.77294522,  3.93077345,  4.88762394,\n",
       "        3.25302053, -0.43947261,  7.24173983,  5.82097272,  4.61703936,\n",
       "        7.94543467, 12.97199903,  7.65692967,  7.76771367,  3.6489443 ,\n",
       "        7.25267403,  1.34644097,  3.5471611 ,  7.38466837,  6.22543393,\n",
       "        5.70348852,  8.40147695,  3.46953586,  6.84063199,  4.78270432,\n",
       "        7.74198418,  9.42253187,  2.74018524,  7.79103048,  2.96623234,\n",
       "        4.002343  ,  7.50686023,  2.17150602,  8.38515708,  2.03405133,\n",
       "        5.00256289,  5.62084067,  1.00967346,  7.1930652 , 11.30303616,\n",
       "        3.14348524,  0.51749985,  4.74539658,  6.74328472,  4.70103085,\n",
       "        6.31826504,  7.58611318,  3.05382899,  3.38206567,  7.12634301,\n",
       "        5.88624034,  3.83834783,  7.10593844,  3.9869091 ,  6.72233984,\n",
       "        4.1688665 ,  7.37630523,  5.61880361,  3.60159913,  8.61318731,\n",
       "        6.7672628 ,  2.30335583,  4.96458229,  7.98846965,  4.00558933,\n",
       "        7.19697532,  5.32577437,  8.48836493,  4.43030032,  2.36709572,\n",
       "        3.68103929,  4.8972594 ,  0.41307154,  8.68185752,  8.10675031,\n",
       "        9.69451417,  9.78376393,  1.86888641,  2.86228135,  2.49429697,\n",
       "        4.43430529,  6.25815503,  8.07818105,  5.78507406,  4.13015484,\n",
       "        6.8575501 ,  8.26361141,  3.69726823,  1.75635919, 13.05591765,\n",
       "        4.83849883,  3.99386121,  8.10751749,  4.21187588,  5.80484704,\n",
       "        3.76885906,  5.88237387,  6.57931305,  9.24668824,  7.55614725,\n",
       "        5.02727187,  2.35067213,  6.32777347,  3.77580807,  8.25892011,\n",
       "        9.07946595,  5.61450266,  8.34248314,  5.41044851,  2.83014756,\n",
       "        6.9475403 ,  7.61348337,  6.7223133 ,  3.66076291,  6.56812127,\n",
       "        2.56091024,  2.35513683,  6.10610732,  8.18410652,  6.44059   ,\n",
       "        6.6343625 , 10.61459445,  4.94847951,  7.5573349 ,  5.06089598,\n",
       "        5.14653879,  2.70146987,  6.68968699,  9.22618261,  3.34056487,\n",
       "       10.40700371,  2.81541782,  4.07344485, 11.79620563,  4.30787524,\n",
       "        5.78703105,  6.24158798,  5.5054807 ,  3.44892164,  7.59015661,\n",
       "        7.6485217 ,  1.76511414,  5.89342512,  5.146194  ,  5.62036439,\n",
       "        7.03189207,  5.77332307,  7.81068782,  0.94314104,  7.4015746 ,\n",
       "        3.09127524,  3.45595924,  6.33844728,  5.42220726,  8.44172523,\n",
       "        3.20353026,  4.52224164,  5.80437196,  6.47536664,  2.60738882,\n",
       "        4.90214086,  7.59424004,  2.40022501,  4.2668705 ,  6.07321199,\n",
       "        2.08081328,  6.636286  ,  4.9642136 ,  1.90756061,  0.65832412,\n",
       "        6.40271355,  5.98613628,  7.97565051,  3.31250794,  6.80953582,\n",
       "        7.46383862,  5.72333982,  4.04057114,  3.44803681,  6.93233145,\n",
       "        7.44051625,  6.66332682, 10.25211814,  6.02796516,  4.19173545,\n",
       "        6.68206805,  5.35765974,  5.49679819,  7.29988781,  2.90245076,\n",
       "        5.60267438,  6.03049435,  8.65055058,  7.31534554,  2.35221876,\n",
       "        8.44274769,  2.40434813,  7.59732093,  5.78126818,  2.97174835,\n",
       "        3.39924529,  0.35153452,  3.37408513,  7.2474573 ,  9.07552488,\n",
       "        8.70942784,  6.60640518,  4.45063755,  2.96020427,  5.41299759,\n",
       "        3.99695377,  6.7298884 ,  6.05239689,  8.39850161,  3.2141913 ,\n",
       "        9.57323109,  3.967658  ,  8.25804874,  1.28388269,  3.66999219,\n",
       "        4.98815401, -1.99351723,  5.09015334,  6.13057589,  7.82470519,\n",
       "        7.13583754,  7.49617984,  2.89555839,  4.61851717,  1.59395325,\n",
       "        5.44588973,  1.3967945 ,  1.30588254,  4.67894678,  4.88936121,\n",
       "        8.90585682,  8.51677934,  2.73045855,  6.81606402,  9.23714251,\n",
       "        8.48224245,  2.91923815,  5.27661614,  2.9376155 ,  6.67889853,\n",
       "        9.61919799,  3.52656498,  0.04766966,  2.00494797,  3.83767187,\n",
       "        4.5794377 ,  7.33133842,  0.62650968,  9.22027817,  6.99019342,\n",
       "        8.96675267,  5.09321851,  9.59973418,  3.77822057,  4.63520857,\n",
       "        6.06370595,  9.47823002,  8.32821909,  8.47185754,  9.02625417,\n",
       "        4.93441096,  2.30508246,  6.47381205,  7.46115554,  6.52002501,\n",
       "        4.85672695, -1.62684226,  3.4265882 ,  4.8575302 , 11.5942851 ,\n",
       "        5.52399761,  5.84800354,  3.48654963,  2.251047  ,  7.39534549,\n",
       "        2.96107927,  2.2970268 ,  5.90888647,  6.62257786,  5.63346669,\n",
       "       11.55859571,  7.90358677,  8.90936259,  6.52692788,  2.81554474,\n",
       "        6.37865493,  2.68386246,  6.22962705,  5.75177477,  1.51736354,\n",
       "        8.44602241,  5.10196601,  9.27330562,  2.9094468 ,  4.8462754 ,\n",
       "        6.0707596 ,  5.25475983,  3.08731971,  6.23926301,  9.29034493,\n",
       "        8.2668298 ,  6.65633707,  3.92739253,  3.62900144, -0.6263288 ,\n",
       "       10.46310255,  7.2248981 ,  6.37258494,  7.30068753,  8.56772246,\n",
       "        4.68902412,  6.62169239,  5.41309745, -0.03320184,  5.15382523,\n",
       "        1.87731937,  8.18506604,  4.80668643,  8.3854921 ,  6.24883811,\n",
       "        2.08467008,  7.93855219,  6.89885521,  2.39247213,  7.51081299,\n",
       "        3.36588571,  3.82825301,  4.15369251, 12.34546782,  6.50384519,\n",
       "        5.20568665,  3.65387976, 10.33939869,  9.93751907,  3.90291233,\n",
       "        5.32046366,  4.80254047,  8.57744593,  2.74800037,  7.78904368,\n",
       "        6.92293327,  3.45006081,  5.59875794, 10.73537251,  5.25933805,\n",
       "        4.61848943,  1.92478737,  4.9575378 ,  2.99510784,  6.06981342,\n",
       "        5.03560863,  5.93433074,  9.67678889,  3.86425511,  4.95652825,\n",
       "        3.93413719,  5.85742165,  3.68375575,  7.00272165,  0.64511945,\n",
       "        5.88499711, 10.08123329,  4.49211597,  9.88324856,  1.67809132,\n",
       "        5.87325605,  8.07033583,  4.79693075,  7.09622648,  4.07640885,\n",
       "        9.18076758,  9.18113973,  8.74353798,  7.0738856 ,  4.42450531,\n",
       "        4.15377073,  6.69241881,  7.63729349,  7.64230965,  7.26055645,\n",
       "        8.81626736,  6.33189443,  5.59228811,  5.70593122,  8.59577332,\n",
       "        6.89471925,  7.83352173,  4.29073115,  1.0574163 ,  5.70331183,\n",
       "        3.79722305,  1.43684614, 10.05519716,  5.57723319,  5.71052541,\n",
       "        3.66040721,  6.51101484,  4.36268305,  4.31791066,  9.85782928,\n",
       "        6.68426395,  8.98043535,  5.20447262,  6.21123609,  0.13769476,\n",
       "        6.85924105,  6.01697156,  4.53826108,  5.92617744,  4.49225087,\n",
       "        4.39993295,  3.90419088,  8.75876515,  4.18356197,  6.7114403 ,\n",
       "        3.5884949 ,  4.26237856,  4.83005818, -0.04256731, -1.29243993,\n",
       "        5.63359671,  6.83487311,  4.50719652,  7.40526181,  4.38280668,\n",
       "        9.71255161,  4.43660733,  2.36513412, 12.31872057,  1.08282329,\n",
       "        6.53541309,  5.63885   ,  7.23738225,  6.37610173,  3.89872272,\n",
       "        0.9092506 ,  2.65815173,  2.76129153,  5.19296979,  1.42540861,\n",
       "        4.40725107,  6.79748593,  2.37338406,  6.718916  ,  6.12606373,\n",
       "        8.94755298,  8.26745405,  1.89960161,  8.39652685,  5.30986833,\n",
       "        1.96438641,  3.39070137,  6.6887666 ,  7.01232261,  9.09933667,\n",
       "        5.62308425,  3.07367057,  8.02976213,  5.0189083 ,  9.27543214,\n",
       "        4.54858561,  5.37722398,  6.40573533,  5.0730916 ,  5.52739873,\n",
       "        5.23939007,  4.21376571,  3.77384808,  4.5739677 ,  7.90359776,\n",
       "        8.28890145,  5.69521348, 11.07108439,  3.56461354,  7.39212356,\n",
       "        4.40476621,  9.78623268,  5.09585447,  8.42884059,  5.28033114,\n",
       "        9.22680741,  9.071547  ,  3.71237814,  5.91309325,  4.55471105,\n",
       "        6.95527438,  4.56189886,  5.21605267,  6.02900358,  7.36041315,\n",
       "        4.26907416,  2.2823311 ,  4.37265264,  5.52480525,  1.75008524,\n",
       "        9.63540332,  3.66306192,  2.33696789,  6.19642876,  3.10560077,\n",
       "        2.76948294,  7.28485312,  6.62713048,  3.56759674,  6.92767519,\n",
       "        1.11965461,  5.97784113,  7.24956222,  9.25972805,  1.94264693,\n",
       "        0.36072271,  6.86525899,  5.42979141,  5.67475864,  6.97988317,\n",
       "        6.90419195,  3.83869021,  9.43850748,  6.63410824,  6.95399625,\n",
       "        3.48170809, -0.64495413,  3.54220986,  2.55889296,  2.42152195,\n",
       "        5.67225491, 11.74030863,  2.63239824,  3.7541925 ,  3.227439  ,\n",
       "        7.45036148, 12.43429539,  9.24390838,  3.05686499,  2.35642102,\n",
       "        2.93685424,  5.52778562,  4.25358267,  9.12609388,  4.49263988,\n",
       "        8.12803632,  2.04976081,  4.96974454,  6.18788578,  1.36789161,\n",
       "        5.29720058,  8.51826867, 10.1575538 ,  8.82500187,  5.91506834,\n",
       "        3.26827499,  6.67348325,  2.58918631, -2.33133828,  6.95283022,\n",
       "        5.23156252,  4.07089851, 11.36331301,  4.46551851,  3.01003316,\n",
       "        2.48787821,  2.60001603,  3.19600457,  4.32609399,  5.95609786,\n",
       "        3.29297411,  3.19642549,  3.51355264,  4.54698949,  6.77088309,\n",
       "        8.33161186,  9.4580783 ,  5.67006998,  4.23015171,  8.99773281,\n",
       "        7.86259691,  3.51136365,  4.40856016,  5.04162257,  3.39248291,\n",
       "        8.60192425,  2.72999815,  3.80267282,  3.23284998,  7.9954162 ,\n",
       "        6.71684029,  5.34366589,  7.63381797,  8.64846021,  5.67115353,\n",
       "        7.47995458,  0.18701222,  5.30627027,  2.72571806,  2.45495952,\n",
       "        5.14734594,  5.20632028,  3.89594796,  6.9745163 ,  4.606237  ,\n",
       "        8.19462764,  5.08587016, 11.36086042,  7.67078047,  4.25726722,\n",
       "        6.4039378 ,  8.80746345,  9.47037251,  3.82550753, -0.84289422,\n",
       "        8.60961696,  6.01865656,  4.88130498,  2.27243959,  7.08202004,\n",
       "        4.48934111,  6.18235041,  5.59533121,  6.23597453,  8.55060281,\n",
       "        7.43934475,  7.89921403,  4.92777342,  7.25909636,  4.29747496,\n",
       "        7.34889831,  7.44115021,  5.03263459, 10.01930106,  7.56433153,\n",
       "       12.34678274,  3.10589525,  3.94457262, -1.34267172, 14.20300482,\n",
       "        3.07851792,  1.89805001,  1.28079556,  9.55636487,  7.91116588,\n",
       "        6.26089173,  6.72654065,  6.09926279,  2.98770791,  9.59238042,\n",
       "        3.40474452,  6.28321816,  3.41213521,  5.55980622,  4.12411577,\n",
       "        3.69856199,  2.80702917,  2.15039384,  2.43666963,  6.28367603,\n",
       "        7.50571067,  4.0844974 ,  3.82789589,  4.28369666,  4.89392629,\n",
       "        1.13681449,  3.35907605,  5.73321884,  4.76734487,  5.77211566,\n",
       "        3.24326826,  2.10703305,  7.43800895,  6.85349752,  3.83843387,\n",
       "        2.97296095,  6.23718138,  5.33592995,  5.70529008,  6.63972251,\n",
       "        5.73291377,  5.17386382,  2.65995983,  7.20145353,  6.09386768,\n",
       "       10.92699697,  7.65983846,  3.0195209 ,  3.46731158,  7.97558852,\n",
       "        7.31301443,  2.33594257,  5.04056697,  3.50698606, 10.7006563 ,\n",
       "       11.12626353,  3.1204953 ,  9.2067914 ,  4.55190646,  8.05668499,\n",
       "        3.31944161, 10.37675196, 10.43948681,  4.56810038,  1.82891631,\n",
       "        6.70836774,  6.42992171,  2.73616342,  8.35862237,  7.82998118,\n",
       "        3.50531388,  0.12626565,  5.18293135,  2.67340955,  2.72291568,\n",
       "        5.93930641,  7.83838309, 10.75135527,  1.89834589,  5.42114163,\n",
       "        3.63382452,  2.93890526,  6.83184251,  5.27445482,  0.89908581,\n",
       "        3.86074057,  6.59243725,  2.98806485,  3.40774215, 10.91437634,\n",
       "        4.60274003,  3.41271267,  9.03145616,  2.12844796,  4.32656293,\n",
       "        3.6367085 ,  2.76159636,  6.0866967 ,  6.01478574,  1.87922454,\n",
       "        2.87803558,  8.88167323,  2.28516747,  3.38828343,  1.7730588 ,\n",
       "        2.92877056,  4.6682917 ,  3.7334264 ,  4.03923451,  8.208376  ,\n",
       "        6.2507642 ,  3.04393039,  5.76497442,  7.16577866,  7.7511168 ,\n",
       "        4.45521905,  3.39261793,  5.25177739,  8.56279556,  9.73071311,\n",
       "        4.00691609,  8.48421442,  5.83756882,  4.41204412,  3.87707752,\n",
       "        7.63806544,  6.2771138 ,  5.62798853,  6.90010961,  4.65928896,\n",
       "        3.79340025,  5.97053125,  3.14585757,  6.08531837,  4.11501015])"
      ]
     },
     "execution_count": 4,
     "metadata": {},
     "output_type": "execute_result"
    }
   ],
   "source": [
    "mu=5.5\n",
    "sd=2.5\n",
    "data = mu + sd*np.random.randn(1000)\n",
    "data"
   ]
  },
  {
   "cell_type": "code",
   "execution_count": 5,
   "metadata": {},
   "outputs": [
    {
     "data": {
      "text/plain": [
       "(array([  6.,  15.,  65., 210., 245., 218., 153.,  67.,  17.,   4.]),\n",
       " array([-2.92246991, -1.20992244,  0.50262504,  2.21517251,  3.92771998,\n",
       "         5.64026745,  7.35281493,  9.0653624 , 10.77790987, 12.49045735,\n",
       "        14.20300482]),\n",
       " <a list of 10 Patch objects>)"
      ]
     },
     "execution_count": 5,
     "metadata": {},
     "output_type": "execute_result"
    },
    {
     "data": {
      "image/png": "[encoded data removed]",
      "text/plain": [
       "<Figure size 432x288 with 1 Axes>"
      ]
     },
     "metadata": {
      "needs_background": "light"
     },
     "output_type": "display_data"
    }
   ],
   "source": [
    "plt.hist(data)"
   ]
  },
  {
   "cell_type": "code",
   "execution_count": 6,
   "metadata": {},
   "outputs": [
    {
     "data": {
      "text/plain": [
       "array([[ 0.07922776,  0.88549306,  0.69325057,  1.00294705],\n",
       "       [-1.05653971,  2.08960821, -0.58103415,  0.25839745]])"
      ]
     },
     "execution_count": 6,
     "metadata": {},
     "output_type": "execute_result"
    }
   ],
   "source": [
    "datos = np.random.randn(2,4) # 2 muestras aleatorias de una normal de tamaño 4\n",
    "datos"
   ]
  },
  {
   "cell_type": "markdown",
   "metadata": {},
   "source": [
    "### Simulacion de Monte-Carlo"
   ]
  },
  {
   "cell_type": "markdown",
   "metadata": {},
   "source": [
    "* Generamos 2 numeros aleatorios  x,y entre 0,1*\n",
    " *calcularemos x*x+y*y *\n",
    " *si el valor es inferios a 1 -> estamos dentro del circulo*\n",
    " *si el valor es superior a 1 -> estamos fuera del circulo*\n",
    " *calculamos el numero total de veces que estan dentro del circulo y lo dividimos entre el numero* *total de intentos para obtener una aproximacion de la  probabilidad de caer dentro del circulo*\n",
    " *usamos dicha probabilidad para aproximar el valor de pi.*\n",
    " \n",
    " *repetimos el experimento un numero suficiente de veces (1000) para obtener 1000 aproximaciones* *diferentes de pi, el promedio de estos valores es la aproximacion de pi*"
   ]
  },
  {
   "cell_type": "code",
   "execution_count": 7,
   "metadata": {},
   "outputs": [],
   "source": [
    "def pi_montecarlo(n,n_exp):\n",
    "    pi_avg=0\n",
    "    pi_value_list=[]\n",
    "    for i in range(n_exp):\n",
    "        value=0\n",
    "        x = np.random.uniform(0,1,n).tolist()\n",
    "        y = np.random.uniform(0,1,n).tolist()\n",
    "\n",
    "        for j in range(n):\n",
    "            z = np.sqrt(x[j]*x[j]+y[j]*y[j])\n",
    "            if z <= 1:\n",
    "                value +=1\n",
    "        float_value = float(value)\n",
    "        pi_value=float_value*4/n\n",
    "        pi_value_list.append(pi_value)\n",
    "        pi_avg += pi_value\n",
    "    pi=pi_avg/n_exp\n",
    "    print(pi)\n",
    "    fig=plt.plot(pi_value_list)\n",
    "    return(pi,fig)"
   ]
  },
  {
   "cell_type": "code",
   "execution_count": 8,
   "metadata": {},
   "outputs": [
    {
     "name": "stdout",
     "output_type": "stream",
     "text": [
      "3.143613999999999\n"
     ]
    },
    {
     "data": {
      "text/plain": [
       "(3.143613999999999, [<matplotlib.lines.Line2D at 0x25a77ce5788>])"
      ]
     },
     "execution_count": 8,
     "metadata": {},
     "output_type": "execute_result"
    },
    {
     "data": {
      "image/png": "[encoded data removed]",
      "text/plain": [
       "<Figure size 432x288 with 1 Axes>"
      ]
     },
     "metadata": {
      "needs_background": "light"
     },
     "output_type": "display_data"
    }
   ],
   "source": [
    "pi_montecarlo(10000,200)"
   ]
  },
  {
   "cell_type": "markdown",
   "metadata": {},
   "source": [
    "### Dummy Data Sets"
   ]
  },
  {
   "cell_type": "code",
   "execution_count": 9,
   "metadata": {},
   "outputs": [
    {
     "data": {
      "text/html": [
       "<div>\n",
       "<style scoped>\n",
       "    .dataframe tbody tr th:only-of-type {\n",
       "        vertical-align: middle;\n",
       "    }\n",
       "\n",
       "    .dataframe tbody tr th {\n",
       "        vertical-align: top;\n",
       "    }\n",
       "\n",
       "    .dataframe thead th {\n",
       "        text-align: right;\n",
       "    }\n",
       "</style>\n",
       "<table border=\"1\" class=\"dataframe\">\n",
       "  <thead>\n",
       "    <tr style=\"text-align: right;\">\n",
       "      <th></th>\n",
       "      <th>A</th>\n",
       "      <th>B</th>\n",
       "      <th>C</th>\n",
       "    </tr>\n",
       "  </thead>\n",
       "  <tbody>\n",
       "    <tr>\n",
       "      <th>0</th>\n",
       "      <td>-1.079367</td>\n",
       "      <td>-2.745190</td>\n",
       "      <td>19.632152</td>\n",
       "    </tr>\n",
       "    <tr>\n",
       "      <th>1</th>\n",
       "      <td>0.900890</td>\n",
       "      <td>3.400224</td>\n",
       "      <td>24.894913</td>\n",
       "    </tr>\n",
       "    <tr>\n",
       "      <th>2</th>\n",
       "      <td>0.879022</td>\n",
       "      <td>1.036789</td>\n",
       "      <td>15.517420</td>\n",
       "    </tr>\n",
       "    <tr>\n",
       "      <th>3</th>\n",
       "      <td>-1.531238</td>\n",
       "      <td>3.241121</td>\n",
       "      <td>14.355335</td>\n",
       "    </tr>\n",
       "    <tr>\n",
       "      <th>4</th>\n",
       "      <td>0.260253</td>\n",
       "      <td>-2.225656</td>\n",
       "      <td>31.991125</td>\n",
       "    </tr>\n",
       "    <tr>\n",
       "      <th>...</th>\n",
       "      <td>...</td>\n",
       "      <td>...</td>\n",
       "      <td>...</td>\n",
       "    </tr>\n",
       "    <tr>\n",
       "      <th>95</th>\n",
       "      <td>0.374449</td>\n",
       "      <td>1.595345</td>\n",
       "      <td>18.026066</td>\n",
       "    </tr>\n",
       "    <tr>\n",
       "      <th>96</th>\n",
       "      <td>-0.786938</td>\n",
       "      <td>6.426577</td>\n",
       "      <td>8.643392</td>\n",
       "    </tr>\n",
       "    <tr>\n",
       "      <th>97</th>\n",
       "      <td>-1.736852</td>\n",
       "      <td>3.323553</td>\n",
       "      <td>24.873593</td>\n",
       "    </tr>\n",
       "    <tr>\n",
       "      <th>98</th>\n",
       "      <td>-1.194793</td>\n",
       "      <td>3.818679</td>\n",
       "      <td>30.373775</td>\n",
       "    </tr>\n",
       "    <tr>\n",
       "      <th>99</th>\n",
       "      <td>2.006365</td>\n",
       "      <td>1.200459</td>\n",
       "      <td>11.037920</td>\n",
       "    </tr>\n",
       "  </tbody>\n",
       "</table>\n",
       "<p>100 rows × 3 columns</p>\n",
       "</div>"
      ],
      "text/plain": [
       "           A         B          C\n",
       "0  -1.079367 -2.745190  19.632152\n",
       "1   0.900890  3.400224  24.894913\n",
       "2   0.879022  1.036789  15.517420\n",
       "3  -1.531238  3.241121  14.355335\n",
       "4   0.260253 -2.225656  31.991125\n",
       "..       ...       ...        ...\n",
       "95  0.374449  1.595345  18.026066\n",
       "96 -0.786938  6.426577   8.643392\n",
       "97 -1.736852  3.323553  24.873593\n",
       "98 -1.194793  3.818679  30.373775\n",
       "99  2.006365  1.200459  11.037920\n",
       "\n",
       "[100 rows x 3 columns]"
      ]
     },
     "execution_count": 9,
     "metadata": {},
     "output_type": "execute_result"
    }
   ],
   "source": [
    "n = 100\n",
    "data = pd.DataFrame(\n",
    "    {\n",
    "        'A': np.random.randn(n),\n",
    "        'B': 1.5 + 2.5*np.random.randn(n),\n",
    "        'C': np.random.uniform(5,32,n)\n",
    "    }\n",
    ")\n",
    "data"
   ]
  },
  {
   "cell_type": "code",
   "execution_count": 10,
   "metadata": {},
   "outputs": [
    {
     "data": {
      "text/html": [
       "<div>\n",
       "<style scoped>\n",
       "    .dataframe tbody tr th:only-of-type {\n",
       "        vertical-align: middle;\n",
       "    }\n",
       "\n",
       "    .dataframe tbody tr th {\n",
       "        vertical-align: top;\n",
       "    }\n",
       "\n",
       "    .dataframe thead th {\n",
       "        text-align: right;\n",
       "    }\n",
       "</style>\n",
       "<table border=\"1\" class=\"dataframe\">\n",
       "  <thead>\n",
       "    <tr style=\"text-align: right;\">\n",
       "      <th></th>\n",
       "      <th>A</th>\n",
       "      <th>B</th>\n",
       "      <th>C</th>\n",
       "    </tr>\n",
       "  </thead>\n",
       "  <tbody>\n",
       "    <tr>\n",
       "      <th>count</th>\n",
       "      <td>100.000000</td>\n",
       "      <td>100.000000</td>\n",
       "      <td>100.000000</td>\n",
       "    </tr>\n",
       "    <tr>\n",
       "      <th>mean</th>\n",
       "      <td>-0.024797</td>\n",
       "      <td>1.772077</td>\n",
       "      <td>18.594008</td>\n",
       "    </tr>\n",
       "    <tr>\n",
       "      <th>std</th>\n",
       "      <td>1.022180</td>\n",
       "      <td>2.688684</td>\n",
       "      <td>7.826256</td>\n",
       "    </tr>\n",
       "    <tr>\n",
       "      <th>min</th>\n",
       "      <td>-2.369129</td>\n",
       "      <td>-3.872823</td>\n",
       "      <td>5.076780</td>\n",
       "    </tr>\n",
       "    <tr>\n",
       "      <th>25%</th>\n",
       "      <td>-0.779450</td>\n",
       "      <td>-0.273008</td>\n",
       "      <td>11.592540</td>\n",
       "    </tr>\n",
       "    <tr>\n",
       "      <th>50%</th>\n",
       "      <td>0.009592</td>\n",
       "      <td>2.000810</td>\n",
       "      <td>18.601052</td>\n",
       "    </tr>\n",
       "    <tr>\n",
       "      <th>75%</th>\n",
       "      <td>0.609061</td>\n",
       "      <td>3.718494</td>\n",
       "      <td>25.259356</td>\n",
       "    </tr>\n",
       "    <tr>\n",
       "      <th>max</th>\n",
       "      <td>2.609816</td>\n",
       "      <td>8.091774</td>\n",
       "      <td>31.991125</td>\n",
       "    </tr>\n",
       "  </tbody>\n",
       "</table>\n",
       "</div>"
      ],
      "text/plain": [
       "                A           B           C\n",
       "count  100.000000  100.000000  100.000000\n",
       "mean    -0.024797    1.772077   18.594008\n",
       "std      1.022180    2.688684    7.826256\n",
       "min     -2.369129   -3.872823    5.076780\n",
       "25%     -0.779450   -0.273008   11.592540\n",
       "50%      0.009592    2.000810   18.601052\n",
       "75%      0.609061    3.718494   25.259356\n",
       "max      2.609816    8.091774   31.991125"
      ]
     },
     "execution_count": 10,
     "metadata": {},
     "output_type": "execute_result"
    }
   ],
   "source": [
    "data.describe()"
   ]
  },
  {
   "cell_type": "code",
   "execution_count": 11,
   "metadata": {},
   "outputs": [
    {
     "data": {
      "text/plain": [
       "(array([ 1.,  6., 15., 19., 16., 18., 13.,  3.,  7.,  2.]),\n",
       " array([-2.36912937, -1.87123484, -1.3733403 , -0.87544577, -0.37755124,\n",
       "         0.1203433 ,  0.61823783,  1.11613237,  1.6140269 ,  2.11192144,\n",
       "         2.60981597]),\n",
       " <a list of 10 Patch objects>)"
      ]
     },
     "execution_count": 11,
     "metadata": {},
     "output_type": "execute_result"
    },
    {
     "data": {
      "image/png": "[encoded data removed]",
      "text/plain": [
       "<Figure size 432x288 with 1 Axes>"
      ]
     },
     "metadata": {
      "needs_background": "light"
     },
     "output_type": "display_data"
    }
   ],
   "source": [
    "plt.hist(data['A'])"
   ]
  },
  {
   "cell_type": "code",
   "execution_count": 12,
   "metadata": {},
   "outputs": [
    {
     "data": {
      "text/plain": [
       "(array([ 7.,  7., 10., 11., 20., 16., 12., 11.,  5.,  1.]),\n",
       " array([-3.87282303, -2.67636337, -1.4799037 , -0.28344404,  0.91301562,\n",
       "         2.10947528,  3.30593494,  4.50239461,  5.69885427,  6.89531393,\n",
       "         8.09177359]),\n",
       " <a list of 10 Patch objects>)"
      ]
     },
     "execution_count": 12,
     "metadata": {},
     "output_type": "execute_result"
    },
    {
     "data": {
      "image/png": "[encoded data removed]",
      "text/plain": [
       "<Figure size 432x288 with 1 Axes>"
      ]
     },
     "metadata": {
      "needs_background": "light"
     },
     "output_type": "display_data"
    }
   ],
   "source": [
    "plt.hist(data['B'])"
   ]
  },
  {
   "cell_type": "code",
   "execution_count": 13,
   "metadata": {},
   "outputs": [
    {
     "data": {
      "text/plain": [
       "(array([ 8.,  8., 15.,  8., 10., 15.,  7.,  9.,  5., 15.]),\n",
       " array([ 5.07678033,  7.76821479, 10.45964925, 13.15108372, 15.84251818,\n",
       "        18.53395264, 21.22538711, 23.91682157, 26.60825603, 29.2996905 ,\n",
       "        31.99112496]),\n",
       " <a list of 10 Patch objects>)"
      ]
     },
     "execution_count": 13,
     "metadata": {},
     "output_type": "execute_result"
    },
    {
     "data": {
      "image/png": "[encoded data removed]",
      "text/plain": [
       "<Figure size 432x288 with 1 Axes>"
      ]
     },
     "metadata": {
      "needs_background": "light"
     },
     "output_type": "display_data"
    }
   ],
   "source": [
    "plt.hist(data['C'])"
   ]
  },
  {
   "cell_type": "code",
   "execution_count": 14,
   "metadata": {},
   "outputs": [
    {
     "data": {
      "text/html": [
       "<div>\n",
       "<style scoped>\n",
       "    .dataframe tbody tr th:only-of-type {\n",
       "        vertical-align: middle;\n",
       "    }\n",
       "\n",
       "    .dataframe tbody tr th {\n",
       "        vertical-align: top;\n",
       "    }\n",
       "\n",
       "    .dataframe thead th {\n",
       "        text-align: right;\n",
       "    }\n",
       "</style>\n",
       "<table border=\"1\" class=\"dataframe\">\n",
       "  <thead>\n",
       "    <tr style=\"text-align: right;\">\n",
       "      <th></th>\n",
       "      <th>State</th>\n",
       "      <th>Account Length</th>\n",
       "      <th>Area Code</th>\n",
       "      <th>Phone</th>\n",
       "      <th>Int'l Plan</th>\n",
       "      <th>VMail Plan</th>\n",
       "      <th>VMail Message</th>\n",
       "      <th>Day Mins</th>\n",
       "      <th>Day Calls</th>\n",
       "      <th>Day Charge</th>\n",
       "      <th>...</th>\n",
       "      <th>Eve Calls</th>\n",
       "      <th>Eve Charge</th>\n",
       "      <th>Night Mins</th>\n",
       "      <th>Night Calls</th>\n",
       "      <th>Night Charge</th>\n",
       "      <th>Intl Mins</th>\n",
       "      <th>Intl Calls</th>\n",
       "      <th>Intl Charge</th>\n",
       "      <th>CustServ Calls</th>\n",
       "      <th>Churn?</th>\n",
       "    </tr>\n",
       "  </thead>\n",
       "  <tbody>\n",
       "    <tr>\n",
       "      <th>0</th>\n",
       "      <td>KS</td>\n",
       "      <td>128</td>\n",
       "      <td>415</td>\n",
       "      <td>382-4657</td>\n",
       "      <td>no</td>\n",
       "      <td>yes</td>\n",
       "      <td>25</td>\n",
       "      <td>265.1</td>\n",
       "      <td>110</td>\n",
       "      <td>45.07</td>\n",
       "      <td>...</td>\n",
       "      <td>99</td>\n",
       "      <td>16.78</td>\n",
       "      <td>244.7</td>\n",
       "      <td>91</td>\n",
       "      <td>11.01</td>\n",
       "      <td>10.0</td>\n",
       "      <td>3</td>\n",
       "      <td>2.70</td>\n",
       "      <td>1</td>\n",
       "      <td>False.</td>\n",
       "    </tr>\n",
       "    <tr>\n",
       "      <th>1</th>\n",
       "      <td>OH</td>\n",
       "      <td>107</td>\n",
       "      <td>415</td>\n",
       "      <td>371-7191</td>\n",
       "      <td>no</td>\n",
       "      <td>yes</td>\n",
       "      <td>26</td>\n",
       "      <td>161.6</td>\n",
       "      <td>123</td>\n",
       "      <td>27.47</td>\n",
       "      <td>...</td>\n",
       "      <td>103</td>\n",
       "      <td>16.62</td>\n",
       "      <td>254.4</td>\n",
       "      <td>103</td>\n",
       "      <td>11.45</td>\n",
       "      <td>13.7</td>\n",
       "      <td>3</td>\n",
       "      <td>3.70</td>\n",
       "      <td>1</td>\n",
       "      <td>False.</td>\n",
       "    </tr>\n",
       "    <tr>\n",
       "      <th>2</th>\n",
       "      <td>NJ</td>\n",
       "      <td>137</td>\n",
       "      <td>415</td>\n",
       "      <td>358-1921</td>\n",
       "      <td>no</td>\n",
       "      <td>no</td>\n",
       "      <td>0</td>\n",
       "      <td>243.4</td>\n",
       "      <td>114</td>\n",
       "      <td>41.38</td>\n",
       "      <td>...</td>\n",
       "      <td>110</td>\n",
       "      <td>10.30</td>\n",
       "      <td>162.6</td>\n",
       "      <td>104</td>\n",
       "      <td>7.32</td>\n",
       "      <td>12.2</td>\n",
       "      <td>5</td>\n",
       "      <td>3.29</td>\n",
       "      <td>0</td>\n",
       "      <td>False.</td>\n",
       "    </tr>\n",
       "    <tr>\n",
       "      <th>3</th>\n",
       "      <td>OH</td>\n",
       "      <td>84</td>\n",
       "      <td>408</td>\n",
       "      <td>375-9999</td>\n",
       "      <td>yes</td>\n",
       "      <td>no</td>\n",
       "      <td>0</td>\n",
       "      <td>299.4</td>\n",
       "      <td>71</td>\n",
       "      <td>50.90</td>\n",
       "      <td>...</td>\n",
       "      <td>88</td>\n",
       "      <td>5.26</td>\n",
       "      <td>196.9</td>\n",
       "      <td>89</td>\n",
       "      <td>8.86</td>\n",
       "      <td>6.6</td>\n",
       "      <td>7</td>\n",
       "      <td>1.78</td>\n",
       "      <td>2</td>\n",
       "      <td>False.</td>\n",
       "    </tr>\n",
       "    <tr>\n",
       "      <th>4</th>\n",
       "      <td>OK</td>\n",
       "      <td>75</td>\n",
       "      <td>415</td>\n",
       "      <td>330-6626</td>\n",
       "      <td>yes</td>\n",
       "      <td>no</td>\n",
       "      <td>0</td>\n",
       "      <td>166.7</td>\n",
       "      <td>113</td>\n",
       "      <td>28.34</td>\n",
       "      <td>...</td>\n",
       "      <td>122</td>\n",
       "      <td>12.61</td>\n",
       "      <td>186.9</td>\n",
       "      <td>121</td>\n",
       "      <td>8.41</td>\n",
       "      <td>10.1</td>\n",
       "      <td>3</td>\n",
       "      <td>2.73</td>\n",
       "      <td>3</td>\n",
       "      <td>False.</td>\n",
       "    </tr>\n",
       "    <tr>\n",
       "      <th>...</th>\n",
       "      <td>...</td>\n",
       "      <td>...</td>\n",
       "      <td>...</td>\n",
       "      <td>...</td>\n",
       "      <td>...</td>\n",
       "      <td>...</td>\n",
       "      <td>...</td>\n",
       "      <td>...</td>\n",
       "      <td>...</td>\n",
       "      <td>...</td>\n",
       "      <td>...</td>\n",
       "      <td>...</td>\n",
       "      <td>...</td>\n",
       "      <td>...</td>\n",
       "      <td>...</td>\n",
       "      <td>...</td>\n",
       "      <td>...</td>\n",
       "      <td>...</td>\n",
       "      <td>...</td>\n",
       "      <td>...</td>\n",
       "      <td>...</td>\n",
       "    </tr>\n",
       "    <tr>\n",
       "      <th>3328</th>\n",
       "      <td>AZ</td>\n",
       "      <td>192</td>\n",
       "      <td>415</td>\n",
       "      <td>414-4276</td>\n",
       "      <td>no</td>\n",
       "      <td>yes</td>\n",
       "      <td>36</td>\n",
       "      <td>156.2</td>\n",
       "      <td>77</td>\n",
       "      <td>26.55</td>\n",
       "      <td>...</td>\n",
       "      <td>126</td>\n",
       "      <td>18.32</td>\n",
       "      <td>279.1</td>\n",
       "      <td>83</td>\n",
       "      <td>12.56</td>\n",
       "      <td>9.9</td>\n",
       "      <td>6</td>\n",
       "      <td>2.67</td>\n",
       "      <td>2</td>\n",
       "      <td>False.</td>\n",
       "    </tr>\n",
       "    <tr>\n",
       "      <th>3329</th>\n",
       "      <td>WV</td>\n",
       "      <td>68</td>\n",
       "      <td>415</td>\n",
       "      <td>370-3271</td>\n",
       "      <td>no</td>\n",
       "      <td>no</td>\n",
       "      <td>0</td>\n",
       "      <td>231.1</td>\n",
       "      <td>57</td>\n",
       "      <td>39.29</td>\n",
       "      <td>...</td>\n",
       "      <td>55</td>\n",
       "      <td>13.04</td>\n",
       "      <td>191.3</td>\n",
       "      <td>123</td>\n",
       "      <td>8.61</td>\n",
       "      <td>9.6</td>\n",
       "      <td>4</td>\n",
       "      <td>2.59</td>\n",
       "      <td>3</td>\n",
       "      <td>False.</td>\n",
       "    </tr>\n",
       "    <tr>\n",
       "      <th>3330</th>\n",
       "      <td>RI</td>\n",
       "      <td>28</td>\n",
       "      <td>510</td>\n",
       "      <td>328-8230</td>\n",
       "      <td>no</td>\n",
       "      <td>no</td>\n",
       "      <td>0</td>\n",
       "      <td>180.8</td>\n",
       "      <td>109</td>\n",
       "      <td>30.74</td>\n",
       "      <td>...</td>\n",
       "      <td>58</td>\n",
       "      <td>24.55</td>\n",
       "      <td>191.9</td>\n",
       "      <td>91</td>\n",
       "      <td>8.64</td>\n",
       "      <td>14.1</td>\n",
       "      <td>6</td>\n",
       "      <td>3.81</td>\n",
       "      <td>2</td>\n",
       "      <td>False.</td>\n",
       "    </tr>\n",
       "    <tr>\n",
       "      <th>3331</th>\n",
       "      <td>CT</td>\n",
       "      <td>184</td>\n",
       "      <td>510</td>\n",
       "      <td>364-6381</td>\n",
       "      <td>yes</td>\n",
       "      <td>no</td>\n",
       "      <td>0</td>\n",
       "      <td>213.8</td>\n",
       "      <td>105</td>\n",
       "      <td>36.35</td>\n",
       "      <td>...</td>\n",
       "      <td>84</td>\n",
       "      <td>13.57</td>\n",
       "      <td>139.2</td>\n",
       "      <td>137</td>\n",
       "      <td>6.26</td>\n",
       "      <td>5.0</td>\n",
       "      <td>10</td>\n",
       "      <td>1.35</td>\n",
       "      <td>2</td>\n",
       "      <td>False.</td>\n",
       "    </tr>\n",
       "    <tr>\n",
       "      <th>3332</th>\n",
       "      <td>TN</td>\n",
       "      <td>74</td>\n",
       "      <td>415</td>\n",
       "      <td>400-4344</td>\n",
       "      <td>no</td>\n",
       "      <td>yes</td>\n",
       "      <td>25</td>\n",
       "      <td>234.4</td>\n",
       "      <td>113</td>\n",
       "      <td>39.85</td>\n",
       "      <td>...</td>\n",
       "      <td>82</td>\n",
       "      <td>22.60</td>\n",
       "      <td>241.4</td>\n",
       "      <td>77</td>\n",
       "      <td>10.86</td>\n",
       "      <td>13.7</td>\n",
       "      <td>4</td>\n",
       "      <td>3.70</td>\n",
       "      <td>0</td>\n",
       "      <td>False.</td>\n",
       "    </tr>\n",
       "  </tbody>\n",
       "</table>\n",
       "<p>3333 rows × 21 columns</p>\n",
       "</div>"
      ],
      "text/plain": [
       "     State  Account Length  Area Code     Phone Int'l Plan VMail Plan  \\\n",
       "0       KS             128        415  382-4657         no        yes   \n",
       "1       OH             107        415  371-7191         no        yes   \n",
       "2       NJ             137        415  358-1921         no         no   \n",
       "3       OH              84        408  375-9999        yes         no   \n",
       "4       OK              75        415  330-6626        yes         no   \n",
       "...    ...             ...        ...       ...        ...        ...   \n",
       "3328    AZ             192        415  414-4276         no        yes   \n",
       "3329    WV              68        415  370-3271         no         no   \n",
       "3330    RI              28        510  328-8230         no         no   \n",
       "3331    CT             184        510  364-6381        yes         no   \n",
       "3332    TN              74        415  400-4344         no        yes   \n",
       "\n",
       "      VMail Message  Day Mins  Day Calls  Day Charge  ...  Eve Calls  \\\n",
       "0                25     265.1        110       45.07  ...         99   \n",
       "1                26     161.6        123       27.47  ...        103   \n",
       "2                 0     243.4        114       41.38  ...        110   \n",
       "3                 0     299.4         71       50.90  ...         88   \n",
       "4                 0     166.7        113       28.34  ...        122   \n",
       "...             ...       ...        ...         ...  ...        ...   \n",
       "3328             36     156.2         77       26.55  ...        126   \n",
       "3329              0     231.1         57       39.29  ...         55   \n",
       "3330              0     180.8        109       30.74  ...         58   \n",
       "3331              0     213.8        105       36.35  ...         84   \n",
       "3332             25     234.4        113       39.85  ...         82   \n",
       "\n",
       "      Eve Charge  Night Mins  Night Calls  Night Charge  Intl Mins  \\\n",
       "0          16.78       244.7           91         11.01       10.0   \n",
       "1          16.62       254.4          103         11.45       13.7   \n",
       "2          10.30       162.6          104          7.32       12.2   \n",
       "3           5.26       196.9           89          8.86        6.6   \n",
       "4          12.61       186.9          121          8.41       10.1   \n",
       "...          ...         ...          ...           ...        ...   \n",
       "3328       18.32       279.1           83         12.56        9.9   \n",
       "3329       13.04       191.3          123          8.61        9.6   \n",
       "3330       24.55       191.9           91          8.64       14.1   \n",
       "3331       13.57       139.2          137          6.26        5.0   \n",
       "3332       22.60       241.4           77         10.86       13.7   \n",
       "\n",
       "      Intl Calls  Intl Charge  CustServ Calls  Churn?  \n",
       "0              3         2.70               1  False.  \n",
       "1              3         3.70               1  False.  \n",
       "2              5         3.29               0  False.  \n",
       "3              7         1.78               2  False.  \n",
       "4              3         2.73               3  False.  \n",
       "...          ...          ...             ...     ...  \n",
       "3328           6         2.67               2  False.  \n",
       "3329           4         2.59               3  False.  \n",
       "3330           6         3.81               2  False.  \n",
       "3331          10         1.35               2  False.  \n",
       "3332           4         3.70               0  False.  \n",
       "\n",
       "[3333 rows x 21 columns]"
      ]
     },
     "execution_count": 14,
     "metadata": {},
     "output_type": "execute_result"
    }
   ],
   "source": [
    "DATA= pd.read_csv(r\"D:\\Escritorio\\python courses\\Curso Completo de machine learning data science in python\\python-ml-course-master\\datasets\\customer-churn-model\\Customer Churn Model.txt\")\n",
    "DATA"
   ]
  },
  {
   "cell_type": "code",
   "execution_count": 15,
   "metadata": {},
   "outputs": [
    {
     "data": {
      "text/plain": [
       "['A', 'B', 'C']"
      ]
     },
     "execution_count": 15,
     "metadata": {},
     "output_type": "execute_result"
    }
   ],
   "source": [
    "column = data.columns.values.tolist()\n",
    "column"
   ]
  },
  {
   "cell_type": "code",
   "execution_count": 16,
   "metadata": {},
   "outputs": [
    {
     "data": {
      "text/plain": [
       "3"
      ]
     },
     "execution_count": 16,
     "metadata": {},
     "output_type": "execute_result"
    }
   ],
   "source": [
    "A = len(column)\n",
    "A"
   ]
  },
  {
   "cell_type": "code",
   "execution_count": 17,
   "metadata": {},
   "outputs": [
    {
     "ename": "SyntaxError",
     "evalue": "invalid syntax (<ipython-input-17-b3db59aaf92a>, line 7)",
     "output_type": "error",
     "traceback": [
      "\u001b[1;36m  File \u001b[1;32m\"<ipython-input-17-b3db59aaf92a>\"\u001b[1;36m, line \u001b[1;32m7\u001b[0m\n\u001b[1;33m    )\u001b[0m\n\u001b[1;37m    ^\u001b[0m\n\u001b[1;31mSyntaxError\u001b[0m\u001b[1;31m:\u001b[0m invalid syntax\n"
     ]
    }
   ],
   "source": [
    "new_data = pd.DataFrame(\n",
    "{\n",
    "    'Column name': column,\n",
    "    'A': np.random.randn(A),\n",
    "    'B': np.random.uniform(0,1,A)\n",
    "}, index=\n",
    ")\n",
    "new_data"
   ]
  }
 ],
 "metadata": {
  "kernelspec": {
   "display_name": "Python 3",
   "language": "python",
   "name": "python3"
  },
  "language_info": {
   "codemirror_mode": {
    "name": "ipython",
    "version": 3
   },
   "file_extension": ".py",
   "mimetype": "text/x-python",
   "name": "python",
   "nbconvert_exporter": "python",
   "pygments_lexer": "ipython3",
   "version": "3.7.6"
  }
 },
 "nbformat": 4,
 "nbformat_minor": 4
}
